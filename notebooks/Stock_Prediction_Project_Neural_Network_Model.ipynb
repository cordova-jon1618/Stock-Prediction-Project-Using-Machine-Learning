{
 "cells": [
  {
   "cell_type": "code",
   "execution_count": 5,
   "id": "b0356527",
   "metadata": {},
   "outputs": [],
   "source": [
    "# ----------------------------------------------------------\n",
    "# COMP 542 – Machine Learning\n",
    "# Class Number # 17086\n",
    "# Group Project by: Jonathan Cordova and Phani Challabotla\n",
    "# NEURAL NETWORK MODEL for Stock Price Prediction\n",
    "# ----------------------------------------------------------\n",
    "\n",
    "import pandas as pd\n",
    "import numpy as np\n",
    "import matplotlib.pyplot as plt\n",
    "import yfinance as yf\n",
    "import talib as ta\n",
    "import seaborn as sns\n",
    "\n",
    "from sklearn.preprocessing import MinMaxScaler, StandardScaler\n",
    "from sklearn.metrics import mean_squared_error, r2_score, mean_absolute_error"
   ]
  },
  {
   "cell_type": "code",
   "execution_count": 6,
   "id": "25ecb47c-028a-4a64-b704-9754ced6554c",
   "metadata": {},
   "outputs": [],
   "source": [
    "# Model\n",
    "import tensorflow as tf\n",
    "from tensorflow import keras\n",
    "from keras.layers import Dense, Dropout, LSTM\n",
    "from keras.models import Sequential, Model"
   ]
  },
  {
   "cell_type": "code",
   "execution_count": 7,
   "id": "0ceb6835",
   "metadata": {},
   "outputs": [
    {
     "data": {
      "text/html": [
       "<div>\n",
       "<style scoped>\n",
       "    .dataframe tbody tr th:only-of-type {\n",
       "        vertical-align: middle;\n",
       "    }\n",
       "\n",
       "    .dataframe tbody tr th {\n",
       "        vertical-align: top;\n",
       "    }\n",
       "\n",
       "    .dataframe thead th {\n",
       "        text-align: right;\n",
       "    }\n",
       "</style>\n",
       "<table border=\"1\" class=\"dataframe\">\n",
       "  <thead>\n",
       "    <tr style=\"text-align: right;\">\n",
       "      <th></th>\n",
       "      <th>Open</th>\n",
       "      <th>High</th>\n",
       "      <th>Low</th>\n",
       "      <th>Close</th>\n",
       "      <th>Volume</th>\n",
       "      <th>Dividends</th>\n",
       "      <th>Stock Splits</th>\n",
       "    </tr>\n",
       "    <tr>\n",
       "      <th>Date</th>\n",
       "      <th></th>\n",
       "      <th></th>\n",
       "      <th></th>\n",
       "      <th></th>\n",
       "      <th></th>\n",
       "      <th></th>\n",
       "      <th></th>\n",
       "    </tr>\n",
       "  </thead>\n",
       "  <tbody>\n",
       "    <tr>\n",
       "      <th>1927-12-30 00:00:00-05:00</th>\n",
       "      <td>17.660000</td>\n",
       "      <td>17.660000</td>\n",
       "      <td>17.660000</td>\n",
       "      <td>17.660000</td>\n",
       "      <td>0</td>\n",
       "      <td>0.0</td>\n",
       "      <td>0.0</td>\n",
       "    </tr>\n",
       "    <tr>\n",
       "      <th>1928-01-03 00:00:00-05:00</th>\n",
       "      <td>17.760000</td>\n",
       "      <td>17.760000</td>\n",
       "      <td>17.760000</td>\n",
       "      <td>17.760000</td>\n",
       "      <td>0</td>\n",
       "      <td>0.0</td>\n",
       "      <td>0.0</td>\n",
       "    </tr>\n",
       "    <tr>\n",
       "      <th>1928-01-04 00:00:00-05:00</th>\n",
       "      <td>17.719999</td>\n",
       "      <td>17.719999</td>\n",
       "      <td>17.719999</td>\n",
       "      <td>17.719999</td>\n",
       "      <td>0</td>\n",
       "      <td>0.0</td>\n",
       "      <td>0.0</td>\n",
       "    </tr>\n",
       "    <tr>\n",
       "      <th>1928-01-05 00:00:00-05:00</th>\n",
       "      <td>17.549999</td>\n",
       "      <td>17.549999</td>\n",
       "      <td>17.549999</td>\n",
       "      <td>17.549999</td>\n",
       "      <td>0</td>\n",
       "      <td>0.0</td>\n",
       "      <td>0.0</td>\n",
       "    </tr>\n",
       "    <tr>\n",
       "      <th>1928-01-06 00:00:00-05:00</th>\n",
       "      <td>17.660000</td>\n",
       "      <td>17.660000</td>\n",
       "      <td>17.660000</td>\n",
       "      <td>17.660000</td>\n",
       "      <td>0</td>\n",
       "      <td>0.0</td>\n",
       "      <td>0.0</td>\n",
       "    </tr>\n",
       "    <tr>\n",
       "      <th>...</th>\n",
       "      <td>...</td>\n",
       "      <td>...</td>\n",
       "      <td>...</td>\n",
       "      <td>...</td>\n",
       "      <td>...</td>\n",
       "      <td>...</td>\n",
       "      <td>...</td>\n",
       "    </tr>\n",
       "    <tr>\n",
       "      <th>2024-05-30 00:00:00-04:00</th>\n",
       "      <td>5259.770020</td>\n",
       "      <td>5260.209961</td>\n",
       "      <td>5222.100098</td>\n",
       "      <td>5235.479980</td>\n",
       "      <td>3818750000</td>\n",
       "      <td>0.0</td>\n",
       "      <td>0.0</td>\n",
       "    </tr>\n",
       "    <tr>\n",
       "      <th>2024-05-31 00:00:00-04:00</th>\n",
       "      <td>5243.209961</td>\n",
       "      <td>5280.330078</td>\n",
       "      <td>5191.680176</td>\n",
       "      <td>5277.509766</td>\n",
       "      <td>5437160000</td>\n",
       "      <td>0.0</td>\n",
       "      <td>0.0</td>\n",
       "    </tr>\n",
       "    <tr>\n",
       "      <th>2024-06-03 00:00:00-04:00</th>\n",
       "      <td>5297.149902</td>\n",
       "      <td>5302.109863</td>\n",
       "      <td>5234.319824</td>\n",
       "      <td>5283.399902</td>\n",
       "      <td>4046920000</td>\n",
       "      <td>0.0</td>\n",
       "      <td>0.0</td>\n",
       "    </tr>\n",
       "    <tr>\n",
       "      <th>2024-06-04 00:00:00-04:00</th>\n",
       "      <td>5278.240234</td>\n",
       "      <td>5298.799805</td>\n",
       "      <td>5257.629883</td>\n",
       "      <td>5291.339844</td>\n",
       "      <td>3707900000</td>\n",
       "      <td>0.0</td>\n",
       "      <td>0.0</td>\n",
       "    </tr>\n",
       "    <tr>\n",
       "      <th>2024-06-05 00:00:00-04:00</th>\n",
       "      <td>5314.479980</td>\n",
       "      <td>5354.160156</td>\n",
       "      <td>5297.640137</td>\n",
       "      <td>5354.029785</td>\n",
       "      <td>2146262000</td>\n",
       "      <td>0.0</td>\n",
       "      <td>0.0</td>\n",
       "    </tr>\n",
       "  </tbody>\n",
       "</table>\n",
       "<p>24223 rows × 7 columns</p>\n",
       "</div>"
      ],
      "text/plain": [
       "                                  Open         High          Low        Close  \\\n",
       "Date                                                                            \n",
       "1927-12-30 00:00:00-05:00    17.660000    17.660000    17.660000    17.660000   \n",
       "1928-01-03 00:00:00-05:00    17.760000    17.760000    17.760000    17.760000   \n",
       "1928-01-04 00:00:00-05:00    17.719999    17.719999    17.719999    17.719999   \n",
       "1928-01-05 00:00:00-05:00    17.549999    17.549999    17.549999    17.549999   \n",
       "1928-01-06 00:00:00-05:00    17.660000    17.660000    17.660000    17.660000   \n",
       "...                                ...          ...          ...          ...   \n",
       "2024-05-30 00:00:00-04:00  5259.770020  5260.209961  5222.100098  5235.479980   \n",
       "2024-05-31 00:00:00-04:00  5243.209961  5280.330078  5191.680176  5277.509766   \n",
       "2024-06-03 00:00:00-04:00  5297.149902  5302.109863  5234.319824  5283.399902   \n",
       "2024-06-04 00:00:00-04:00  5278.240234  5298.799805  5257.629883  5291.339844   \n",
       "2024-06-05 00:00:00-04:00  5314.479980  5354.160156  5297.640137  5354.029785   \n",
       "\n",
       "                               Volume  Dividends  Stock Splits  \n",
       "Date                                                            \n",
       "1927-12-30 00:00:00-05:00           0        0.0           0.0  \n",
       "1928-01-03 00:00:00-05:00           0        0.0           0.0  \n",
       "1928-01-04 00:00:00-05:00           0        0.0           0.0  \n",
       "1928-01-05 00:00:00-05:00           0        0.0           0.0  \n",
       "1928-01-06 00:00:00-05:00           0        0.0           0.0  \n",
       "...                               ...        ...           ...  \n",
       "2024-05-30 00:00:00-04:00  3818750000        0.0           0.0  \n",
       "2024-05-31 00:00:00-04:00  5437160000        0.0           0.0  \n",
       "2024-06-03 00:00:00-04:00  4046920000        0.0           0.0  \n",
       "2024-06-04 00:00:00-04:00  3707900000        0.0           0.0  \n",
       "2024-06-05 00:00:00-04:00  2146262000        0.0           0.0  \n",
       "\n",
       "[24223 rows x 7 columns]"
      ]
     },
     "execution_count": 7,
     "metadata": {},
     "output_type": "execute_result"
    }
   ],
   "source": [
    "# get the s&p 500 index fund data\n",
    "stock_data = yf.Ticker(\"^GSPC\")\n",
    "\n",
    "# get historical price data for s&p 500\n",
    "df = pd.DataFrame(stock_data.history(period=\"max\"))\n",
    "\n",
    "# Print\n",
    "df"
   ]
  },
  {
   "cell_type": "code",
   "execution_count": 8,
   "id": "423b5d6a",
   "metadata": {},
   "outputs": [],
   "source": [
    "#\n",
    "# --------------------------\n",
    "# Preprocessing - Creating a custom functions for data cleaning:\n",
    "# --------------------------\n",
    "# \n",
    "\n",
    "def clean_dataset(df_series):\n",
    "\n",
    "    # Calculating Momentum (Technical Indicator) and add new data column\n",
    "    df_series['Momentum_Indicator'] = ta.MOM(df_series['Close'], timeperiod=2)\n",
    "\n",
    "    # Calculating Money Flow Index (Technical Indicator) and add new data column\n",
    "    df_series['Money_Flow_Index'] = ta.MFI(df_series['High'], df_series['Low'], df_series['Close'], df_series['Volume'], timeperiod=2)\n",
    "\n",
    "    # Calculating Relative Strength Index (Technical Indicator) and add new data column\n",
    "    df_series['Relative_Strength_Index'] = ta.RSI(df_series['Close'], timeperiod=2)\n",
    "\n",
    "    # Calculating Rate of Change (Technical Indicator) and add new data column\n",
    "    df_series['Rate_of_Change_Ratio'] = ta.ROCR(df_series['Close'], timeperiod=2)\n",
    "\n",
    "    # Dropping all NaN rows\n",
    "    df_series.dropna(subset=['Momentum_Indicator', 'Money_Flow_Index', 'Relative_Strength_Index', 'Rate_of_Change_Ratio'], inplace=True)\n",
    "\n",
    "    # Drop columns Stock Splits and Dividends, axis = 1 represents type to drop 'column'\n",
    "    df_series = df_series.drop(['Stock Splits', 'Dividends'], axis=1)\n",
    "\n",
    "    # Format the Money Flow Index Indicator column and plot\n",
    "    df_series['Money_Flow_Index'] = df_series['Money_Flow_Index'].round(6)\n",
    "    \n",
    "    # Add additional features including range (close - open) and daily mean ((high + low) / 2.0 )\n",
    "    df_series['Daily_Range'] = (df_series['Close'] - df_series['Open'])\n",
    "    df_series['Daily_Mean'] = (df_series['High'] + df_series['Low']) / 2.0\n",
    "\n",
    "    # Turns Date index into a feature (column)\n",
    "    df_series = df_series.reset_index()\n",
    "\n",
    "    # Filter data between two dates to reflect data from 10-01-2000 to 10-01-2022\n",
    "    filtered_df_series = df_series.loc[(df_series['Date'] >= '1990-10-01')\n",
    "                         & (df_series['Date'] <= '2022-10-01')]\n",
    "\n",
    "    # Resets the row index to 0\n",
    "    filtered_df_series = filtered_df_series.reset_index(drop=True)\n",
    "\n",
    "    # Makes the Date column back into an index \n",
    "    filtered_df_series = filtered_df_series.set_index('Date')\n",
    "    df_series = filtered_df_series\n",
    "    \n",
    "    # Drop column 'Rate_of_Change_Ratio' due to high correlation with 'Momentum_Indicator', axis = 1 represents type column\n",
    "    df_series = df_series.drop(['Rate_of_Change_Ratio'], axis=1)\n",
    "\n",
    "    return df_series\n",
    "\n",
    "\n",
    "# Cleaning all datasets for the S&P 500 and sector funds using custom function\n",
    "df = clean_dataset(df)"
   ]
  },
  {
   "cell_type": "code",
   "execution_count": 9,
   "id": "3fe65e64",
   "metadata": {},
   "outputs": [
    {
     "name": "stdout",
     "output_type": "stream",
     "text": [
      "S&P 500 Tuples (Rows) count:  8063\n"
     ]
    }
   ],
   "source": [
    "# Show the count of tuples (rows) for each data set\n",
    "\n",
    "print(\"S&P 500 Tuples (Rows) count: \", len(df.index))"
   ]
  },
  {
   "cell_type": "code",
   "execution_count": 10,
   "id": "fec956b7",
   "metadata": {},
   "outputs": [
    {
     "name": "stdout",
     "output_type": "stream",
     "text": [
      "<class 'pandas.core.frame.DataFrame'>\n",
      "DatetimeIndex: 8063 entries, 1990-10-01 00:00:00-04:00 to 2022-09-30 00:00:00-04:00\n",
      "Data columns (total 10 columns):\n",
      " #   Column                   Non-Null Count  Dtype  \n",
      "---  ------                   --------------  -----  \n",
      " 0   Open                     8063 non-null   float64\n",
      " 1   High                     8063 non-null   float64\n",
      " 2   Low                      8063 non-null   float64\n",
      " 3   Close                    8063 non-null   float64\n",
      " 4   Volume                   8063 non-null   int64  \n",
      " 5   Momentum_Indicator       8063 non-null   float64\n",
      " 6   Money_Flow_Index         8063 non-null   float64\n",
      " 7   Relative_Strength_Index  8063 non-null   float64\n",
      " 8   Daily_Range              8063 non-null   float64\n",
      " 9   Daily_Mean               8063 non-null   float64\n",
      "dtypes: float64(9), int64(1)\n",
      "memory usage: 692.9 KB\n"
     ]
    }
   ],
   "source": [
    "# Using info method to get a quick desc of the data\n",
    "df.info()"
   ]
  },
  {
   "cell_type": "code",
   "execution_count": 11,
   "id": "7998bf95",
   "metadata": {},
   "outputs": [
    {
     "data": {
      "text/html": [
       "<div>\n",
       "<style scoped>\n",
       "    .dataframe tbody tr th:only-of-type {\n",
       "        vertical-align: middle;\n",
       "    }\n",
       "\n",
       "    .dataframe tbody tr th {\n",
       "        vertical-align: top;\n",
       "    }\n",
       "\n",
       "    .dataframe thead th {\n",
       "        text-align: right;\n",
       "    }\n",
       "</style>\n",
       "<table border=\"1\" class=\"dataframe\">\n",
       "  <thead>\n",
       "    <tr style=\"text-align: right;\">\n",
       "      <th></th>\n",
       "      <th>Open</th>\n",
       "      <th>High</th>\n",
       "      <th>Low</th>\n",
       "      <th>Close</th>\n",
       "      <th>Volume</th>\n",
       "      <th>Momentum_Indicator</th>\n",
       "      <th>Money_Flow_Index</th>\n",
       "      <th>Relative_Strength_Index</th>\n",
       "      <th>Daily_Range</th>\n",
       "      <th>Daily_Mean</th>\n",
       "    </tr>\n",
       "  </thead>\n",
       "  <tbody>\n",
       "    <tr>\n",
       "      <th>count</th>\n",
       "      <td>8063.000000</td>\n",
       "      <td>8063.000000</td>\n",
       "      <td>8063.000000</td>\n",
       "      <td>8063.000000</td>\n",
       "      <td>8.063000e+03</td>\n",
       "      <td>8063.000000</td>\n",
       "      <td>8063.000000</td>\n",
       "      <td>8063.000000</td>\n",
       "      <td>8063.000000</td>\n",
       "      <td>8063.000000</td>\n",
       "    </tr>\n",
       "    <tr>\n",
       "      <th>mean</th>\n",
       "      <td>1511.357602</td>\n",
       "      <td>1520.300416</td>\n",
       "      <td>1501.698549</td>\n",
       "      <td>1511.606558</td>\n",
       "      <td>2.450039e+09</td>\n",
       "      <td>0.820919</td>\n",
       "      <td>54.068904</td>\n",
       "      <td>55.379125</td>\n",
       "      <td>0.248956</td>\n",
       "      <td>1510.999483</td>\n",
       "    </tr>\n",
       "    <tr>\n",
       "      <th>std</th>\n",
       "      <td>975.513523</td>\n",
       "      <td>980.647994</td>\n",
       "      <td>969.712286</td>\n",
       "      <td>975.446771</td>\n",
       "      <td>1.838858e+09</td>\n",
       "      <td>27.792306</td>\n",
       "      <td>38.193554</td>\n",
       "      <td>31.081190</td>\n",
       "      <td>17.455088</td>\n",
       "      <td>975.149794</td>\n",
       "    </tr>\n",
       "    <tr>\n",
       "      <th>min</th>\n",
       "      <td>295.450012</td>\n",
       "      <td>301.450012</td>\n",
       "      <td>294.510010</td>\n",
       "      <td>295.459991</td>\n",
       "      <td>1.499000e+07</td>\n",
       "      <td>-401.590088</td>\n",
       "      <td>-0.000000</td>\n",
       "      <td>0.071289</td>\n",
       "      <td>-150.220215</td>\n",
       "      <td>297.980011</td>\n",
       "    </tr>\n",
       "    <tr>\n",
       "      <th>25%</th>\n",
       "      <td>909.600006</td>\n",
       "      <td>918.804993</td>\n",
       "      <td>898.915009</td>\n",
       "      <td>909.705017</td>\n",
       "      <td>6.815000e+08</td>\n",
       "      <td>-7.500000</td>\n",
       "      <td>0.000000</td>\n",
       "      <td>26.307692</td>\n",
       "      <td>-5.000000</td>\n",
       "      <td>908.837494</td>\n",
       "    </tr>\n",
       "    <tr>\n",
       "      <th>50%</th>\n",
       "      <td>1260.819946</td>\n",
       "      <td>1268.189941</td>\n",
       "      <td>1253.030029</td>\n",
       "      <td>1260.680054</td>\n",
       "      <td>2.403470e+09</td>\n",
       "      <td>1.299927</td>\n",
       "      <td>50.741857</td>\n",
       "      <td>59.693967</td>\n",
       "      <td>0.540009</td>\n",
       "      <td>1260.625000</td>\n",
       "    </tr>\n",
       "    <tr>\n",
       "      <th>75%</th>\n",
       "      <td>1949.119995</td>\n",
       "      <td>1961.429993</td>\n",
       "      <td>1937.534973</td>\n",
       "      <td>1950.385010</td>\n",
       "      <td>3.796280e+09</td>\n",
       "      <td>11.154984</td>\n",
       "      <td>100.000000</td>\n",
       "      <td>83.846606</td>\n",
       "      <td>6.685059</td>\n",
       "      <td>1948.565002</td>\n",
       "    </tr>\n",
       "    <tr>\n",
       "      <th>max</th>\n",
       "      <td>4804.509766</td>\n",
       "      <td>4818.620117</td>\n",
       "      <td>4780.040039</td>\n",
       "      <td>4796.560059</td>\n",
       "      <td>1.145623e+10</td>\n",
       "      <td>238.160156</td>\n",
       "      <td>100.000000</td>\n",
       "      <td>99.995138</td>\n",
       "      <td>141.030029</td>\n",
       "      <td>4796.445068</td>\n",
       "    </tr>\n",
       "  </tbody>\n",
       "</table>\n",
       "</div>"
      ],
      "text/plain": [
       "              Open         High          Low        Close        Volume  \\\n",
       "count  8063.000000  8063.000000  8063.000000  8063.000000  8.063000e+03   \n",
       "mean   1511.357602  1520.300416  1501.698549  1511.606558  2.450039e+09   \n",
       "std     975.513523   980.647994   969.712286   975.446771  1.838858e+09   \n",
       "min     295.450012   301.450012   294.510010   295.459991  1.499000e+07   \n",
       "25%     909.600006   918.804993   898.915009   909.705017  6.815000e+08   \n",
       "50%    1260.819946  1268.189941  1253.030029  1260.680054  2.403470e+09   \n",
       "75%    1949.119995  1961.429993  1937.534973  1950.385010  3.796280e+09   \n",
       "max    4804.509766  4818.620117  4780.040039  4796.560059  1.145623e+10   \n",
       "\n",
       "       Momentum_Indicator  Money_Flow_Index  Relative_Strength_Index  \\\n",
       "count         8063.000000       8063.000000              8063.000000   \n",
       "mean             0.820919         54.068904                55.379125   \n",
       "std             27.792306         38.193554                31.081190   \n",
       "min           -401.590088         -0.000000                 0.071289   \n",
       "25%             -7.500000          0.000000                26.307692   \n",
       "50%              1.299927         50.741857                59.693967   \n",
       "75%             11.154984        100.000000                83.846606   \n",
       "max            238.160156        100.000000                99.995138   \n",
       "\n",
       "       Daily_Range   Daily_Mean  \n",
       "count  8063.000000  8063.000000  \n",
       "mean      0.248956  1510.999483  \n",
       "std      17.455088   975.149794  \n",
       "min    -150.220215   297.980011  \n",
       "25%      -5.000000   908.837494  \n",
       "50%       0.540009  1260.625000  \n",
       "75%       6.685059  1948.565002  \n",
       "max     141.030029  4796.445068  "
      ]
     },
     "execution_count": 11,
     "metadata": {},
     "output_type": "execute_result"
    }
   ],
   "source": [
    "# Information for numerical attributes (features)\n",
    "df.describe()"
   ]
  },
  {
   "cell_type": "code",
   "execution_count": 12,
   "id": "aab22a36",
   "metadata": {},
   "outputs": [
    {
     "name": "stdout",
     "output_type": "stream",
     "text": [
      "(7938, 1)\n",
      "(126, 1)\n"
     ]
    }
   ],
   "source": [
    "# ----------------------------\n",
    "# Training Data vs Test Data\n",
    "# ----------------------------\n",
    "# Separate the training set and the testing set\n",
    "\n",
    "\n",
    "# Turns Date index into a feature (column)\n",
    "df = df.reset_index()\n",
    "\n",
    "# Get training and testing set\n",
    "training_set = df.loc[df['Date'] <= '2022-04-01']\n",
    "testing_set = df.loc[df['Date'] >= '2022-04-01']\n",
    "\n",
    "# Resets the row index to 0\n",
    "df = df.reset_index(drop=True)\n",
    "training_set = training_set.reset_index(drop=True)\n",
    "testing_set = testing_set.reset_index(drop=True)\n",
    "\n",
    "# Makes the Date column back into an index \n",
    "df = df.set_index('Date')\n",
    "training_set = training_set.set_index('Date')\n",
    "testing_set = testing_set.set_index('Date')\n",
    "\n",
    "\n",
    "# Put in a different variable for later use\n",
    "data_training = pd.DataFrame()\n",
    "data_testing = pd.DataFrame()\n",
    "\n",
    "data_training['Close']  = training_set['Close']\n",
    "data_testing['Close'] = testing_set['Close']\n",
    "\n",
    "\n",
    "print(data_training.shape)\n",
    "print(data_testing.shape)"
   ]
  },
  {
   "cell_type": "code",
   "execution_count": 13,
   "id": "324a959d",
   "metadata": {},
   "outputs": [
    {
     "data": {
      "text/html": [
       "<div>\n",
       "<style scoped>\n",
       "    .dataframe tbody tr th:only-of-type {\n",
       "        vertical-align: middle;\n",
       "    }\n",
       "\n",
       "    .dataframe tbody tr th {\n",
       "        vertical-align: top;\n",
       "    }\n",
       "\n",
       "    .dataframe thead th {\n",
       "        text-align: right;\n",
       "    }\n",
       "</style>\n",
       "<table border=\"1\" class=\"dataframe\">\n",
       "  <thead>\n",
       "    <tr style=\"text-align: right;\">\n",
       "      <th></th>\n",
       "      <th>Close</th>\n",
       "    </tr>\n",
       "    <tr>\n",
       "      <th>Date</th>\n",
       "      <th></th>\n",
       "    </tr>\n",
       "  </thead>\n",
       "  <tbody>\n",
       "    <tr>\n",
       "      <th>2022-04-01 00:00:00-04:00</th>\n",
       "      <td>4545.859863</td>\n",
       "    </tr>\n",
       "    <tr>\n",
       "      <th>2022-04-04 00:00:00-04:00</th>\n",
       "      <td>4582.640137</td>\n",
       "    </tr>\n",
       "    <tr>\n",
       "      <th>2022-04-05 00:00:00-04:00</th>\n",
       "      <td>4525.120117</td>\n",
       "    </tr>\n",
       "    <tr>\n",
       "      <th>2022-04-06 00:00:00-04:00</th>\n",
       "      <td>4481.149902</td>\n",
       "    </tr>\n",
       "    <tr>\n",
       "      <th>2022-04-07 00:00:00-04:00</th>\n",
       "      <td>4500.209961</td>\n",
       "    </tr>\n",
       "  </tbody>\n",
       "</table>\n",
       "</div>"
      ],
      "text/plain": [
       "                                 Close\n",
       "Date                                  \n",
       "2022-04-01 00:00:00-04:00  4545.859863\n",
       "2022-04-04 00:00:00-04:00  4582.640137\n",
       "2022-04-05 00:00:00-04:00  4525.120117\n",
       "2022-04-06 00:00:00-04:00  4481.149902\n",
       "2022-04-07 00:00:00-04:00  4500.209961"
      ]
     },
     "execution_count": 13,
     "metadata": {},
     "output_type": "execute_result"
    }
   ],
   "source": [
    "data_testing.head()"
   ]
  },
  {
   "cell_type": "code",
   "execution_count": 14,
   "id": "ad1f5e08",
   "metadata": {},
   "outputs": [
    {
     "data": {
      "text/html": [
       "<div>\n",
       "<style scoped>\n",
       "    .dataframe tbody tr th:only-of-type {\n",
       "        vertical-align: middle;\n",
       "    }\n",
       "\n",
       "    .dataframe tbody tr th {\n",
       "        vertical-align: top;\n",
       "    }\n",
       "\n",
       "    .dataframe thead th {\n",
       "        text-align: right;\n",
       "    }\n",
       "</style>\n",
       "<table border=\"1\" class=\"dataframe\">\n",
       "  <thead>\n",
       "    <tr style=\"text-align: right;\">\n",
       "      <th></th>\n",
       "      <th>Close</th>\n",
       "    </tr>\n",
       "    <tr>\n",
       "      <th>Date</th>\n",
       "      <th></th>\n",
       "    </tr>\n",
       "  </thead>\n",
       "  <tbody>\n",
       "    <tr>\n",
       "      <th>1990-10-01 00:00:00-04:00</th>\n",
       "      <td>314.940002</td>\n",
       "    </tr>\n",
       "    <tr>\n",
       "      <th>1990-10-02 00:00:00-04:00</th>\n",
       "      <td>315.209991</td>\n",
       "    </tr>\n",
       "    <tr>\n",
       "      <th>1990-10-03 00:00:00-04:00</th>\n",
       "      <td>311.399994</td>\n",
       "    </tr>\n",
       "    <tr>\n",
       "      <th>1990-10-04 00:00:00-04:00</th>\n",
       "      <td>312.690002</td>\n",
       "    </tr>\n",
       "    <tr>\n",
       "      <th>1990-10-05 00:00:00-04:00</th>\n",
       "      <td>311.500000</td>\n",
       "    </tr>\n",
       "  </tbody>\n",
       "</table>\n",
       "</div>"
      ],
      "text/plain": [
       "                                Close\n",
       "Date                                 \n",
       "1990-10-01 00:00:00-04:00  314.940002\n",
       "1990-10-02 00:00:00-04:00  315.209991\n",
       "1990-10-03 00:00:00-04:00  311.399994\n",
       "1990-10-04 00:00:00-04:00  312.690002\n",
       "1990-10-05 00:00:00-04:00  311.500000"
      ]
     },
     "execution_count": 14,
     "metadata": {},
     "output_type": "execute_result"
    }
   ],
   "source": [
    "data_training.head()"
   ]
  },
  {
   "cell_type": "code",
   "execution_count": 15,
   "id": "728a9ad6",
   "metadata": {},
   "outputs": [],
   "source": [
    "# Scaling the data with Min-Max Scaler (This scaler will bring the training data set between 0 and 1)\n",
    "scaler = MinMaxScaler(feature_range=(0,1)).fit(data_training)\n",
    "data_training_array = scaler.transform(data_training)"
   ]
  },
  {
   "cell_type": "code",
   "execution_count": 16,
   "id": "90bafcf6",
   "metadata": {},
   "outputs": [
    {
     "data": {
      "text/plain": [
       "array([[0.00432783],\n",
       "       [0.00438782],\n",
       "       [0.00354136],\n",
       "       ...,\n",
       "       [0.95687502],\n",
       "       [0.94087003],\n",
       "       [0.94430246]])"
      ]
     },
     "execution_count": 16,
     "metadata": {},
     "output_type": "execute_result"
    }
   ],
   "source": [
    "# Making sure the training set is transformed using the Min-Max Scaler\n",
    "data_training_array"
   ]
  },
  {
   "cell_type": "code",
   "execution_count": 17,
   "id": "ab8dd1dd",
   "metadata": {},
   "outputs": [
    {
     "data": {
      "text/plain": [
       "7938"
      ]
     },
     "execution_count": 17,
     "metadata": {},
     "output_type": "execute_result"
    }
   ],
   "source": [
    "data_training_array.shape[0]"
   ]
  },
  {
   "cell_type": "code",
   "execution_count": 18,
   "id": "c1c8d8e7",
   "metadata": {},
   "outputs": [],
   "source": [
    "# create x and y training sets to use 100 days of 'Close' price input as features and predicted target as current 'Close' price\n",
    "x_train = []\n",
    "y_train = []\n",
    "\n",
    "for i in range(100, data_training_array.shape[0]):\n",
    "    x_train.append(data_training_array[i-100: i]) # 0 through 100, then 1 through 101, etc.\n",
    "    y_train.append(data_training_array[i, 0]) # starting at index 100 as 'target'\n",
    "\n",
    "\n",
    "x_train, y_train = np.array(x_train, dtype=float), np.array(y_train, dtype=float)"
   ]
  },
  {
   "cell_type": "code",
   "execution_count": 19,
   "id": "4a3ddff4",
   "metadata": {},
   "outputs": [
    {
     "data": {
      "text/plain": [
       "(7838, 100, 1)"
      ]
     },
     "execution_count": 19,
     "metadata": {},
     "output_type": "execute_result"
    }
   ],
   "source": [
    "x_train.shape"
   ]
  },
  {
   "cell_type": "code",
   "execution_count": 20,
   "id": "e7aeff0c",
   "metadata": {},
   "outputs": [
    {
     "name": "stderr",
     "output_type": "stream",
     "text": [
      "C:\\Users\\cordo\\anaconda3\\envs\\machine_learning_base\\lib\\site-packages\\keras\\src\\layers\\rnn\\rnn.py:204: UserWarning: Do not pass an `input_shape`/`input_dim` argument to a layer. When using Sequential models, prefer using an `Input(shape)` object as the first layer in the model instead.\n",
      "  super().__init__(**kwargs)\n"
     ]
    }
   ],
   "source": [
    "# Start building neural network model, using Sequential() as model will have 1 tensor input and 1 tensor output\n",
    "\n",
    "model = Sequential()\n",
    "model.add(LSTM(units = 50, activation = 'relu', return_sequences = True, \n",
    "              input_shape = (x_train.shape[1], 1)))\n",
    "model.add(Dropout(0.2))\n",
    "\n",
    "model.add(LSTM(units = 60, activation = 'relu', return_sequences = True))\n",
    "model.add(Dropout(0.3))\n",
    "\n",
    "model.add(LSTM(units = 80, activation = 'relu', return_sequences = True))\n",
    "model.add(Dropout(0.4))\n",
    "\n",
    "model.add(LSTM(units = 120, activation = 'relu'))\n",
    "model.add(Dropout(0.5))\n",
    "\n",
    "model.add(Dense(units= 1))\n"
   ]
  },
  {
   "cell_type": "code",
   "execution_count": 21,
   "id": "aeb43efb",
   "metadata": {},
   "outputs": [
    {
     "data": {
      "text/html": [
       "<pre style=\"white-space:pre;overflow-x:auto;line-height:normal;font-family:Menlo,'DejaVu Sans Mono',consolas,'Courier New',monospace\"><span style=\"font-weight: bold\">Model: \"sequential\"</span>\n",
       "</pre>\n"
      ],
      "text/plain": [
       "\u001b[1mModel: \"sequential\"\u001b[0m\n"
      ]
     },
     "metadata": {},
     "output_type": "display_data"
    },
    {
     "data": {
      "text/html": [
       "<pre style=\"white-space:pre;overflow-x:auto;line-height:normal;font-family:Menlo,'DejaVu Sans Mono',consolas,'Courier New',monospace\">┏━━━━━━━━━━━━━━━━━━━━━━━━━━━━━━━━━┳━━━━━━━━━━━━━━━━━━━━━━━━┳━━━━━━━━━━━━━━━┓\n",
       "┃<span style=\"font-weight: bold\"> Layer (type)                    </span>┃<span style=\"font-weight: bold\"> Output Shape           </span>┃<span style=\"font-weight: bold\">       Param # </span>┃\n",
       "┡━━━━━━━━━━━━━━━━━━━━━━━━━━━━━━━━━╇━━━━━━━━━━━━━━━━━━━━━━━━╇━━━━━━━━━━━━━━━┩\n",
       "│ lstm (<span style=\"color: #0087ff; text-decoration-color: #0087ff\">LSTM</span>)                     │ (<span style=\"color: #00d7ff; text-decoration-color: #00d7ff\">None</span>, <span style=\"color: #00af00; text-decoration-color: #00af00\">100</span>, <span style=\"color: #00af00; text-decoration-color: #00af00\">50</span>)        │        <span style=\"color: #00af00; text-decoration-color: #00af00\">10,400</span> │\n",
       "├─────────────────────────────────┼────────────────────────┼───────────────┤\n",
       "│ dropout (<span style=\"color: #0087ff; text-decoration-color: #0087ff\">Dropout</span>)               │ (<span style=\"color: #00d7ff; text-decoration-color: #00d7ff\">None</span>, <span style=\"color: #00af00; text-decoration-color: #00af00\">100</span>, <span style=\"color: #00af00; text-decoration-color: #00af00\">50</span>)        │             <span style=\"color: #00af00; text-decoration-color: #00af00\">0</span> │\n",
       "├─────────────────────────────────┼────────────────────────┼───────────────┤\n",
       "│ lstm_1 (<span style=\"color: #0087ff; text-decoration-color: #0087ff\">LSTM</span>)                   │ (<span style=\"color: #00d7ff; text-decoration-color: #00d7ff\">None</span>, <span style=\"color: #00af00; text-decoration-color: #00af00\">100</span>, <span style=\"color: #00af00; text-decoration-color: #00af00\">60</span>)        │        <span style=\"color: #00af00; text-decoration-color: #00af00\">26,640</span> │\n",
       "├─────────────────────────────────┼────────────────────────┼───────────────┤\n",
       "│ dropout_1 (<span style=\"color: #0087ff; text-decoration-color: #0087ff\">Dropout</span>)             │ (<span style=\"color: #00d7ff; text-decoration-color: #00d7ff\">None</span>, <span style=\"color: #00af00; text-decoration-color: #00af00\">100</span>, <span style=\"color: #00af00; text-decoration-color: #00af00\">60</span>)        │             <span style=\"color: #00af00; text-decoration-color: #00af00\">0</span> │\n",
       "├─────────────────────────────────┼────────────────────────┼───────────────┤\n",
       "│ lstm_2 (<span style=\"color: #0087ff; text-decoration-color: #0087ff\">LSTM</span>)                   │ (<span style=\"color: #00d7ff; text-decoration-color: #00d7ff\">None</span>, <span style=\"color: #00af00; text-decoration-color: #00af00\">100</span>, <span style=\"color: #00af00; text-decoration-color: #00af00\">80</span>)        │        <span style=\"color: #00af00; text-decoration-color: #00af00\">45,120</span> │\n",
       "├─────────────────────────────────┼────────────────────────┼───────────────┤\n",
       "│ dropout_2 (<span style=\"color: #0087ff; text-decoration-color: #0087ff\">Dropout</span>)             │ (<span style=\"color: #00d7ff; text-decoration-color: #00d7ff\">None</span>, <span style=\"color: #00af00; text-decoration-color: #00af00\">100</span>, <span style=\"color: #00af00; text-decoration-color: #00af00\">80</span>)        │             <span style=\"color: #00af00; text-decoration-color: #00af00\">0</span> │\n",
       "├─────────────────────────────────┼────────────────────────┼───────────────┤\n",
       "│ lstm_3 (<span style=\"color: #0087ff; text-decoration-color: #0087ff\">LSTM</span>)                   │ (<span style=\"color: #00d7ff; text-decoration-color: #00d7ff\">None</span>, <span style=\"color: #00af00; text-decoration-color: #00af00\">120</span>)            │        <span style=\"color: #00af00; text-decoration-color: #00af00\">96,480</span> │\n",
       "├─────────────────────────────────┼────────────────────────┼───────────────┤\n",
       "│ dropout_3 (<span style=\"color: #0087ff; text-decoration-color: #0087ff\">Dropout</span>)             │ (<span style=\"color: #00d7ff; text-decoration-color: #00d7ff\">None</span>, <span style=\"color: #00af00; text-decoration-color: #00af00\">120</span>)            │             <span style=\"color: #00af00; text-decoration-color: #00af00\">0</span> │\n",
       "├─────────────────────────────────┼────────────────────────┼───────────────┤\n",
       "│ dense (<span style=\"color: #0087ff; text-decoration-color: #0087ff\">Dense</span>)                   │ (<span style=\"color: #00d7ff; text-decoration-color: #00d7ff\">None</span>, <span style=\"color: #00af00; text-decoration-color: #00af00\">1</span>)              │           <span style=\"color: #00af00; text-decoration-color: #00af00\">121</span> │\n",
       "└─────────────────────────────────┴────────────────────────┴───────────────┘\n",
       "</pre>\n"
      ],
      "text/plain": [
       "┏━━━━━━━━━━━━━━━━━━━━━━━━━━━━━━━━━┳━━━━━━━━━━━━━━━━━━━━━━━━┳━━━━━━━━━━━━━━━┓\n",
       "┃\u001b[1m \u001b[0m\u001b[1mLayer (type)                   \u001b[0m\u001b[1m \u001b[0m┃\u001b[1m \u001b[0m\u001b[1mOutput Shape          \u001b[0m\u001b[1m \u001b[0m┃\u001b[1m \u001b[0m\u001b[1m      Param #\u001b[0m\u001b[1m \u001b[0m┃\n",
       "┡━━━━━━━━━━━━━━━━━━━━━━━━━━━━━━━━━╇━━━━━━━━━━━━━━━━━━━━━━━━╇━━━━━━━━━━━━━━━┩\n",
       "│ lstm (\u001b[38;5;33mLSTM\u001b[0m)                     │ (\u001b[38;5;45mNone\u001b[0m, \u001b[38;5;34m100\u001b[0m, \u001b[38;5;34m50\u001b[0m)        │        \u001b[38;5;34m10,400\u001b[0m │\n",
       "├─────────────────────────────────┼────────────────────────┼───────────────┤\n",
       "│ dropout (\u001b[38;5;33mDropout\u001b[0m)               │ (\u001b[38;5;45mNone\u001b[0m, \u001b[38;5;34m100\u001b[0m, \u001b[38;5;34m50\u001b[0m)        │             \u001b[38;5;34m0\u001b[0m │\n",
       "├─────────────────────────────────┼────────────────────────┼───────────────┤\n",
       "│ lstm_1 (\u001b[38;5;33mLSTM\u001b[0m)                   │ (\u001b[38;5;45mNone\u001b[0m, \u001b[38;5;34m100\u001b[0m, \u001b[38;5;34m60\u001b[0m)        │        \u001b[38;5;34m26,640\u001b[0m │\n",
       "├─────────────────────────────────┼────────────────────────┼───────────────┤\n",
       "│ dropout_1 (\u001b[38;5;33mDropout\u001b[0m)             │ (\u001b[38;5;45mNone\u001b[0m, \u001b[38;5;34m100\u001b[0m, \u001b[38;5;34m60\u001b[0m)        │             \u001b[38;5;34m0\u001b[0m │\n",
       "├─────────────────────────────────┼────────────────────────┼───────────────┤\n",
       "│ lstm_2 (\u001b[38;5;33mLSTM\u001b[0m)                   │ (\u001b[38;5;45mNone\u001b[0m, \u001b[38;5;34m100\u001b[0m, \u001b[38;5;34m80\u001b[0m)        │        \u001b[38;5;34m45,120\u001b[0m │\n",
       "├─────────────────────────────────┼────────────────────────┼───────────────┤\n",
       "│ dropout_2 (\u001b[38;5;33mDropout\u001b[0m)             │ (\u001b[38;5;45mNone\u001b[0m, \u001b[38;5;34m100\u001b[0m, \u001b[38;5;34m80\u001b[0m)        │             \u001b[38;5;34m0\u001b[0m │\n",
       "├─────────────────────────────────┼────────────────────────┼───────────────┤\n",
       "│ lstm_3 (\u001b[38;5;33mLSTM\u001b[0m)                   │ (\u001b[38;5;45mNone\u001b[0m, \u001b[38;5;34m120\u001b[0m)            │        \u001b[38;5;34m96,480\u001b[0m │\n",
       "├─────────────────────────────────┼────────────────────────┼───────────────┤\n",
       "│ dropout_3 (\u001b[38;5;33mDropout\u001b[0m)             │ (\u001b[38;5;45mNone\u001b[0m, \u001b[38;5;34m120\u001b[0m)            │             \u001b[38;5;34m0\u001b[0m │\n",
       "├─────────────────────────────────┼────────────────────────┼───────────────┤\n",
       "│ dense (\u001b[38;5;33mDense\u001b[0m)                   │ (\u001b[38;5;45mNone\u001b[0m, \u001b[38;5;34m1\u001b[0m)              │           \u001b[38;5;34m121\u001b[0m │\n",
       "└─────────────────────────────────┴────────────────────────┴───────────────┘\n"
      ]
     },
     "metadata": {},
     "output_type": "display_data"
    },
    {
     "data": {
      "text/html": [
       "<pre style=\"white-space:pre;overflow-x:auto;line-height:normal;font-family:Menlo,'DejaVu Sans Mono',consolas,'Courier New',monospace\"><span style=\"font-weight: bold\"> Total params: </span><span style=\"color: #00af00; text-decoration-color: #00af00\">178,761</span> (698.29 KB)\n",
       "</pre>\n"
      ],
      "text/plain": [
       "\u001b[1m Total params: \u001b[0m\u001b[38;5;34m178,761\u001b[0m (698.29 KB)\n"
      ]
     },
     "metadata": {},
     "output_type": "display_data"
    },
    {
     "data": {
      "text/html": [
       "<pre style=\"white-space:pre;overflow-x:auto;line-height:normal;font-family:Menlo,'DejaVu Sans Mono',consolas,'Courier New',monospace\"><span style=\"font-weight: bold\"> Trainable params: </span><span style=\"color: #00af00; text-decoration-color: #00af00\">178,761</span> (698.29 KB)\n",
       "</pre>\n"
      ],
      "text/plain": [
       "\u001b[1m Trainable params: \u001b[0m\u001b[38;5;34m178,761\u001b[0m (698.29 KB)\n"
      ]
     },
     "metadata": {},
     "output_type": "display_data"
    },
    {
     "data": {
      "text/html": [
       "<pre style=\"white-space:pre;overflow-x:auto;line-height:normal;font-family:Menlo,'DejaVu Sans Mono',consolas,'Courier New',monospace\"><span style=\"font-weight: bold\"> Non-trainable params: </span><span style=\"color: #00af00; text-decoration-color: #00af00\">0</span> (0.00 B)\n",
       "</pre>\n"
      ],
      "text/plain": [
       "\u001b[1m Non-trainable params: \u001b[0m\u001b[38;5;34m0\u001b[0m (0.00 B)\n"
      ]
     },
     "metadata": {},
     "output_type": "display_data"
    }
   ],
   "source": [
    "model.summary()"
   ]
  },
  {
   "cell_type": "code",
   "execution_count": 22,
   "id": "140ce159",
   "metadata": {},
   "outputs": [
    {
     "name": "stdout",
     "output_type": "stream",
     "text": [
      "Epoch 1/5\n",
      "\u001b[1m245/245\u001b[0m \u001b[32m━━━━━━━━━━━━━━━━━━━━\u001b[0m\u001b[37m\u001b[0m \u001b[1m33s\u001b[0m 111ms/step - loss: 0.0192 - mae: 0.0856 - mean_absolute_percentage_error: 61.6704 - mse: 0.0192\n",
      "Epoch 2/5\n",
      "\u001b[1m245/245\u001b[0m \u001b[32m━━━━━━━━━━━━━━━━━━━━\u001b[0m\u001b[37m\u001b[0m \u001b[1m27s\u001b[0m 111ms/step - loss: 0.0031 - mae: 0.0369 - mean_absolute_percentage_error: 18.4453 - mse: 0.0031\n",
      "Epoch 3/5\n",
      "\u001b[1m245/245\u001b[0m \u001b[32m━━━━━━━━━━━━━━━━━━━━\u001b[0m\u001b[37m\u001b[0m \u001b[1m33s\u001b[0m 133ms/step - loss: 0.0023 - mae: 0.0318 - mean_absolute_percentage_error: 17.1572 - mse: 0.0023\n",
      "Epoch 4/5\n",
      "\u001b[1m245/245\u001b[0m \u001b[32m━━━━━━━━━━━━━━━━━━━━\u001b[0m\u001b[37m\u001b[0m \u001b[1m37s\u001b[0m 149ms/step - loss: 0.0020 - mae: 0.0291 - mean_absolute_percentage_error: 17.9252 - mse: 0.0020\n",
      "Epoch 5/5\n",
      "\u001b[1m245/245\u001b[0m \u001b[32m━━━━━━━━━━━━━━━━━━━━\u001b[0m\u001b[37m\u001b[0m \u001b[1m36s\u001b[0m 146ms/step - loss: 0.0018 - mae: 0.0277 - mean_absolute_percentage_error: 19.3442 - mse: 0.0018\n"
     ]
    },
    {
     "data": {
      "text/plain": [
       "<keras.src.callbacks.history.History at 0x2015e551250>"
      ]
     },
     "execution_count": 22,
     "metadata": {},
     "output_type": "execute_result"
    }
   ],
   "source": [
    "# Track metrics while the model compiles\n",
    "\n",
    "model.compile(optimizer='adam', loss= 'mean_squared_error', metrics=['mse', 'mae', 'mean_absolute_percentage_error'])\n",
    "model.fit(x_train, y_train, epochs = 5)"
   ]
  },
  {
   "cell_type": "code",
   "execution_count": 23,
   "id": "3094ef05",
   "metadata": {},
   "outputs": [
    {
     "data": {
      "text/html": [
       "<div>\n",
       "<style scoped>\n",
       "    .dataframe tbody tr th:only-of-type {\n",
       "        vertical-align: middle;\n",
       "    }\n",
       "\n",
       "    .dataframe tbody tr th {\n",
       "        vertical-align: top;\n",
       "    }\n",
       "\n",
       "    .dataframe thead th {\n",
       "        text-align: right;\n",
       "    }\n",
       "</style>\n",
       "<table border=\"1\" class=\"dataframe\">\n",
       "  <thead>\n",
       "    <tr style=\"text-align: right;\">\n",
       "      <th></th>\n",
       "      <th>Close</th>\n",
       "    </tr>\n",
       "    <tr>\n",
       "      <th>Date</th>\n",
       "      <th></th>\n",
       "    </tr>\n",
       "  </thead>\n",
       "  <tbody>\n",
       "    <tr>\n",
       "      <th>2022-04-01 00:00:00-04:00</th>\n",
       "      <td>4545.859863</td>\n",
       "    </tr>\n",
       "    <tr>\n",
       "      <th>2022-04-04 00:00:00-04:00</th>\n",
       "      <td>4582.640137</td>\n",
       "    </tr>\n",
       "    <tr>\n",
       "      <th>2022-04-05 00:00:00-04:00</th>\n",
       "      <td>4525.120117</td>\n",
       "    </tr>\n",
       "    <tr>\n",
       "      <th>2022-04-06 00:00:00-04:00</th>\n",
       "      <td>4481.149902</td>\n",
       "    </tr>\n",
       "    <tr>\n",
       "      <th>2022-04-07 00:00:00-04:00</th>\n",
       "      <td>4500.209961</td>\n",
       "    </tr>\n",
       "  </tbody>\n",
       "</table>\n",
       "</div>"
      ],
      "text/plain": [
       "                                 Close\n",
       "Date                                  \n",
       "2022-04-01 00:00:00-04:00  4545.859863\n",
       "2022-04-04 00:00:00-04:00  4582.640137\n",
       "2022-04-05 00:00:00-04:00  4525.120117\n",
       "2022-04-06 00:00:00-04:00  4481.149902\n",
       "2022-04-07 00:00:00-04:00  4500.209961"
      ]
     },
     "execution_count": 23,
     "metadata": {},
     "output_type": "execute_result"
    }
   ],
   "source": [
    "data_testing.head()"
   ]
  },
  {
   "cell_type": "code",
   "execution_count": 24,
   "id": "ed1403cf",
   "metadata": {},
   "outputs": [
    {
     "ename": "AttributeError",
     "evalue": "'DataFrame' object has no attribute 'append'",
     "output_type": "error",
     "traceback": [
      "\u001b[1;31m---------------------------------------------------------------------------\u001b[0m",
      "\u001b[1;31mAttributeError\u001b[0m                            Traceback (most recent call last)",
      "\u001b[1;32m~\\AppData\\Local\\Temp\\ipykernel_33312\\3810407472.py\u001b[0m in \u001b[0;36m?\u001b[1;34m()\u001b[0m\n\u001b[1;32m----> 5\u001b[1;33m \u001b[1;31m# For the testing set, in order to predict the first target 'close' stock price we need to append\u001b[0m\u001b[1;33m\u001b[0m\u001b[1;33m\u001b[0m\u001b[0m\n\u001b[0m\u001b[0;32m      6\u001b[0m \u001b[1;31m# the first 100 days as features to the test set\u001b[0m\u001b[1;33m\u001b[0m\u001b[1;33m\u001b[0m\u001b[0m\n\u001b[0;32m      7\u001b[0m \u001b[1;33m\u001b[0m\u001b[0m\n\u001b[0;32m      8\u001b[0m \u001b[0mpast_100_days\u001b[0m \u001b[1;33m=\u001b[0m \u001b[0mdata_training\u001b[0m\u001b[1;33m.\u001b[0m\u001b[0mtail\u001b[0m\u001b[1;33m(\u001b[0m\u001b[1;36m100\u001b[0m\u001b[1;33m)\u001b[0m\u001b[1;33m\u001b[0m\u001b[1;33m\u001b[0m\u001b[0m\n",
      "\u001b[1;32m~\\anaconda3\\envs\\machine_learning_base\\lib\\site-packages\\pandas\\core\\generic.py\u001b[0m in \u001b[0;36m?\u001b[1;34m(self, name)\u001b[0m\n\u001b[0;32m   6292\u001b[0m             \u001b[1;32mand\u001b[0m \u001b[0mname\u001b[0m \u001b[1;32mnot\u001b[0m \u001b[1;32min\u001b[0m \u001b[0mself\u001b[0m\u001b[1;33m.\u001b[0m\u001b[0m_accessors\u001b[0m\u001b[1;33m\u001b[0m\u001b[1;33m\u001b[0m\u001b[0m\n\u001b[0;32m   6293\u001b[0m             \u001b[1;32mand\u001b[0m \u001b[0mself\u001b[0m\u001b[1;33m.\u001b[0m\u001b[0m_info_axis\u001b[0m\u001b[1;33m.\u001b[0m\u001b[0m_can_hold_identifiers_and_holds_name\u001b[0m\u001b[1;33m(\u001b[0m\u001b[0mname\u001b[0m\u001b[1;33m)\u001b[0m\u001b[1;33m\u001b[0m\u001b[1;33m\u001b[0m\u001b[0m\n\u001b[0;32m   6294\u001b[0m         ):\n\u001b[0;32m   6295\u001b[0m             \u001b[1;32mreturn\u001b[0m \u001b[0mself\u001b[0m\u001b[1;33m[\u001b[0m\u001b[0mname\u001b[0m\u001b[1;33m]\u001b[0m\u001b[1;33m\u001b[0m\u001b[1;33m\u001b[0m\u001b[0m\n\u001b[1;32m-> 6296\u001b[1;33m         \u001b[1;32mreturn\u001b[0m \u001b[0mobject\u001b[0m\u001b[1;33m.\u001b[0m\u001b[0m__getattribute__\u001b[0m\u001b[1;33m(\u001b[0m\u001b[0mself\u001b[0m\u001b[1;33m,\u001b[0m \u001b[0mname\u001b[0m\u001b[1;33m)\u001b[0m\u001b[1;33m\u001b[0m\u001b[1;33m\u001b[0m\u001b[0m\n\u001b[0m",
      "\u001b[1;31mAttributeError\u001b[0m: 'DataFrame' object has no attribute 'append'"
     ]
    }
   ],
   "source": [
    "# For the testing set, in order to predict the first target 'close' stock price we need to append \n",
    "# the first 100 days as features to the test set\n",
    "\n",
    "past_100_days = data_training.tail(100)\n",
    "final_df = past_100_days.append(data_testing, ignore_index=True)\n",
    "final_df.head()"
   ]
  },
  {
   "cell_type": "code",
   "execution_count": null,
   "id": "beeb5514",
   "metadata": {},
   "outputs": [],
   "source": [
    "# Apply the min-max scaler metric calculated from the training set and transform the test set\n",
    "# input_data = scaler.fit_transform(final_df)\n",
    "input_data = scaler.transform(final_df)\n",
    "input_data"
   ]
  },
  {
   "cell_type": "code",
   "execution_count": null,
   "id": "498f5a38",
   "metadata": {},
   "outputs": [],
   "source": [
    "input_data.shape"
   ]
  },
  {
   "cell_type": "code",
   "execution_count": null,
   "id": "05e522cb",
   "metadata": {},
   "outputs": [],
   "source": [
    "x_test = []\n",
    "y_test = []\n",
    "\n",
    "for i in range(100, input_data.shape[0]):\n",
    "    x_test.append(input_data[i-100: i]) # 0 through 100, then 1 through 101, etc.\n",
    "    y_test.append(input_data[i, 0]) # starting at index 100 as 'target'"
   ]
  },
  {
   "cell_type": "code",
   "execution_count": null,
   "id": "425056da",
   "metadata": {},
   "outputs": [],
   "source": [
    "x_test, y_test = np.array(x_test), np.array(y_test)\n",
    "print(x_test.shape)\n",
    "print(y_test.shape)"
   ]
  },
  {
   "cell_type": "code",
   "execution_count": null,
   "id": "956b1101",
   "metadata": {},
   "outputs": [],
   "source": [
    "#Evaluation\n",
    "score = model.evaluate(x_test, y_test)\n",
    "print('Test loss (mean squared error):', score[0])\n",
    "print('Test mean squared error:', score[1])\n",
    "print('Test mean absolute error:', score[2])\n",
    "print('Test mean absolute error percentage:', score[3])"
   ]
  },
  {
   "cell_type": "code",
   "execution_count": null,
   "id": "bd72e498",
   "metadata": {},
   "outputs": [],
   "source": [
    "# Predictions\n",
    "y_predicted = model.predict(x_test)"
   ]
  },
  {
   "cell_type": "code",
   "execution_count": null,
   "id": "f6bd9f51",
   "metadata": {},
   "outputs": [],
   "source": [
    "y_predicted.shape"
   ]
  },
  {
   "cell_type": "code",
   "execution_count": null,
   "id": "3dfdcd1a",
   "metadata": {},
   "outputs": [],
   "source": [
    "y_test"
   ]
  },
  {
   "cell_type": "code",
   "execution_count": null,
   "id": "c5c77dd7",
   "metadata": {
    "scrolled": true
   },
   "outputs": [],
   "source": [
    "y_predicted"
   ]
  },
  {
   "cell_type": "code",
   "execution_count": null,
   "id": "58618490",
   "metadata": {},
   "outputs": [],
   "source": [
    "# Evaluations:\n",
    "m = tf.keras.metrics.MeanSquaredError()\n",
    "m.update_state(y_predicted, y_test)\n",
    "mse = m.result().numpy()\n",
    "\n",
    "\n",
    "# Get mean squared error and r2 score\n",
    "r2s = r2_score(y_predicted, y_test)\n",
    "mae = mean_absolute_error(y_predicted, y_test)\n",
    "rmse = mean_squared_error(y_predicted, y_test, squared=False)\n",
    "\n",
    "# Mean squared error\n",
    "print(\"Mean Squared Error is: \", mse)\n",
    "\n",
    "# R-squared score measures the variance of the independent variables influence on the dependent variable\n",
    "print(\"R2 Score is: \", r2s)\n",
    "\n",
    "# Mean Absolute Error and Root Mean Squared Error\n",
    "print(\"Mean Absolute Error is: \", mae)\n",
    "print(\"Root Mean Squared Error is: \", rmse)"
   ]
  },
  {
   "cell_type": "code",
   "execution_count": null,
   "id": "a570345d",
   "metadata": {},
   "outputs": [],
   "source": [
    "# Note: Both are scaled here\n",
    "score = model.evaluate(x_test, y_test, verbose=0)\n",
    "print('Test Loss (Mean Squared Error):', score[0])\n",
    "print('Test Mean Squared Error:', score[1])"
   ]
  },
  {
   "cell_type": "code",
   "execution_count": null,
   "id": "83090832",
   "metadata": {},
   "outputs": [],
   "source": [
    "y_predicted.shape"
   ]
  },
  {
   "cell_type": "code",
   "execution_count": null,
   "id": "81c64b8e",
   "metadata": {},
   "outputs": [],
   "source": [
    "y_test.shape"
   ]
  },
  {
   "cell_type": "code",
   "execution_count": null,
   "id": "eb5715f5",
   "metadata": {},
   "outputs": [],
   "source": [
    "# transfer to a dataframe shape for scaling\n",
    "y_test = pd.DataFrame(y_test)\n",
    "\n",
    "# Reverse the Min-Max scaling on the y-predicted and y-test sets\n",
    "y_predicted = scaler.inverse_transform(y_predicted)\n",
    "y_test = scaler.inverse_transform(y_test)"
   ]
  },
  {
   "cell_type": "code",
   "execution_count": null,
   "id": "7dd0d0d9",
   "metadata": {},
   "outputs": [],
   "source": [
    "# Grabbing the 'Date' index from test set\n",
    "Date_index = data_testing.index\n",
    "y_test_with_dates = pd.DataFrame()\n",
    "y_predicted_with_dates = pd.DataFrame()\n",
    "\n",
    "# Add dates to the y-test set and y-predicted\n",
    "y_test_with_dates['Date'] = Date_index\n",
    "y_test_with_dates['Close'] = y_test\n",
    "y_test_with_dates = y_test_with_dates.set_index('Date')\n",
    "\n",
    "# Add dates to the y-test set and y-predicted\n",
    "y_predicted_with_dates['Date'] = Date_index\n",
    "y_predicted_with_dates['Close'] = y_predicted\n",
    "y_predicted_with_dates = y_predicted_with_dates.set_index('Date')\n",
    "\n",
    "\n",
    "# Plotting our results\n",
    "plt.figure(figsize=(18, 6))\n",
    "plt.plot(y_test_with_dates, 'b', label = 'Test Set Closing Price')\n",
    "plt.plot(y_predicted_with_dates, 'r', label = 'Predicted Closing Price')\n",
    "plt.xlabel('Dates')\n",
    "plt.ylabel('Close Price')\n",
    "plt.legend()\n",
    "plt.show()"
   ]
  },
  {
   "cell_type": "code",
   "execution_count": null,
   "id": "fba229f2",
   "metadata": {},
   "outputs": [],
   "source": [
    "#------------------------------------------------------------------------------\n",
    "# Evaluations: y_test vs y_predicted - AFTER scaling back to the original size\n",
    "#------------------------------------------------------------------------------\n",
    "m = tf.keras.metrics.MeanSquaredError()\n",
    "m.update_state(y_predicted, y_test)\n",
    "mse = m.result().numpy()\n",
    "\n",
    "\n",
    "# Get r2 score, mean absolute error, root mean squared error\n",
    "r2s = r2_score(y_predicted, y_test)\n",
    "mae = mean_absolute_error(y_predicted, y_test)\n",
    "rmse = mean_squared_error(y_predicted, y_test, squared=False)\n",
    "\n",
    "# Mean squared error\n",
    "print(\"Mean Squared Error is: \", mse)\n",
    "\n",
    "# R-squared score measures the variance of the independent variables influence on the dependent variable\n",
    "print(\"R2 Score is: \", r2s)\n",
    "\n",
    "# Mean Absolute Error and Root Mean Squared Error\n",
    "print(\"Mean Absolute Error is: \", mae)\n",
    "print(\"Root Mean Squared Error is: \", rmse)"
   ]
  },
  {
   "cell_type": "code",
   "execution_count": null,
   "id": "96f725dc",
   "metadata": {},
   "outputs": [],
   "source": []
  }
 ],
 "metadata": {
  "kernelspec": {
   "display_name": "Python 3 (ipykernel)",
   "language": "python",
   "name": "python3"
  },
  "language_info": {
   "codemirror_mode": {
    "name": "ipython",
    "version": 3
   },
   "file_extension": ".py",
   "mimetype": "text/x-python",
   "name": "python",
   "nbconvert_exporter": "python",
   "pygments_lexer": "ipython3",
   "version": "3.9.19"
  }
 },
 "nbformat": 4,
 "nbformat_minor": 5
}
